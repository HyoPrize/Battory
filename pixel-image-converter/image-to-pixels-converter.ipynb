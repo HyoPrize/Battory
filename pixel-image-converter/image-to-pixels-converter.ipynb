{
 "cells": [
  {
   "cell_type": "code",
   "execution_count": 2,
   "metadata": {},
   "outputs": [],
   "source": [
    "import matplotlib.pyplot as plt\n",
    "from PIL import Image"
   ]
  },
  {
   "cell_type": "code",
   "execution_count": 3,
   "metadata": {},
   "outputs": [
    {
     "data": {
      "text/plain": [
       "(-0.5, 1140.5, 1200.5, -0.5)"
      ]
     },
     "execution_count": 3,
     "metadata": {},
     "output_type": "execute_result"
    },
    {
     "data": {
      "image/png": "[encoded data removed]",
      "text/plain": [
       "<Figure size 432x288 with 1 Axes>"
      ]
     },
     "metadata": {
      "needs_background": "light"
     },
     "output_type": "display_data"
    }
   ],
   "source": [
    "image = Image.open('pikachu.png')\n",
    "plt.imshow(image)\n",
    "plt.axis(\"off\")"
   ]
  },
  {
   "cell_type": "code",
   "execution_count": 4,
   "metadata": {},
   "outputs": [
    {
     "name": "stderr",
     "output_type": "stream",
     "text": [
      "C:\\Users\\hysku\\AppData\\Local\\Temp\\ipykernel_1756\\54286970.py:1: DeprecationWarning: NEAREST is deprecated and will be removed in Pillow 10 (2023-07-01). Use Resampling.NEAREST or Dither.NONE instead.\n",
      "  small_img = image.resize((19,20),Image.NEAREST)\n"
     ]
    }
   ],
   "source": [
    "small_img = image.resize((19,20),Image.NEAREST)\n",
    "small_img.save('pikachu_19x20.png')"
   ]
  },
  {
   "cell_type": "code",
   "execution_count": 14,
   "metadata": {},
   "outputs": [],
   "source": [
    "pixels = list(small_img.getdata())\n",
    "width, height = small_img.size\n",
    "pixels = [pixels[i * width:(i + 1) * width] for i in range(height)]"
   ]
  },
  {
   "cell_type": "code",
   "execution_count": 30,
   "metadata": {},
   "outputs": [
    {
     "data": {
      "text/plain": [
       "[(245, 127, 23, 255), True]"
      ]
     },
     "execution_count": 30,
     "metadata": {},
     "output_type": "execute_result"
    }
   ],
   "source": [
    "color_pixels = []\n",
    "for row_idx, pixel_row in enumerate(pixels):\n",
    "    color_pixels.append([])\n",
    "    for pixel in pixel_row:\n",
    "        color_pixels[row_idx].append([pixel, pixel[:3] != (0,0,0)])\n",
    "        \n",
    "        \n",
    "color_pixels[10][10]"
   ]
  }
 ],
 "metadata": {
  "interpreter": {
   "hash": "7909eac5ff08d0cfd1a4c0b432197e9c7e71a331497cd8b009feccffbf9f3f92"
  },
  "kernelspec": {
   "display_name": "Python 3.9.13 64-bit (windows store)",
   "language": "python",
   "name": "python3"
  },
  "language_info": {
   "codemirror_mode": {
    "name": "ipython",
    "version": 3
   },
   "file_extension": ".py",
   "mimetype": "text/x-python",
   "name": "python",
   "nbconvert_exporter": "python",
   "pygments_lexer": "ipython3",
   "version": "3.9.13"
  },
  "orig_nbformat": 4
 },
 "nbformat": 4,
 "nbformat_minor": 2
}
