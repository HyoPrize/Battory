{
 "cells": [
  {
   "cell_type": "code",
   "execution_count": 1,
   "metadata": {},
   "outputs": [],
   "source": [
    "import matplotlib.pyplot as plt\n",
    "from PIL import Image"
   ]
  },
  {
   "cell_type": "code",
   "execution_count": 2,
   "metadata": {},
   "outputs": [],
   "source": [
    "INPUT_IMAGE_NAME = \"pikachu.png\"\n",
    "OUTPUT_IMAGE_NAME = \"pikachu_19x20.png\"\n",
    "OUTPUT_IMAGE_INFO_NAME = \"pikachu_info.json\"\n",
    "OUTPUT_INAPP_IMAGE_NAME = \"pikachu_inapp.png\"\n",
    "PIXEL_WIDTH = 19\n",
    "PIXEL_HEIGHT = 20\n",
    "TOTAL_DAY = 30"
   ]
  },
  {
   "cell_type": "code",
   "execution_count": 3,
   "metadata": {},
   "outputs": [
    {
     "data": {
      "text/plain": [
       "(-0.5, 1140.5, 1200.5, -0.5)"
      ]
     },
     "execution_count": 3,
     "metadata": {},
     "output_type": "execute_result"
    },
    {
     "data": {
      "image/png": "[encoded data removed]",
      "text/plain": [
       "<Figure size 432x288 with 1 Axes>"
      ]
     },
     "metadata": {
      "needs_background": "light"
     },
     "output_type": "display_data"
    }
   ],
   "source": [
    "image = Image.open(INPUT_IMAGE_NAME)\n",
    "plt.imshow(image)\n",
    "plt.axis(\"off\")"
   ]
  },
  {
   "cell_type": "code",
   "execution_count": 4,
   "metadata": {},
   "outputs": [
    {
     "name": "stderr",
     "output_type": "stream",
     "text": [
      "C:\\Users\\hysku\\AppData\\Local\\Temp\\ipykernel_1704\\3307054081.py:1: DeprecationWarning: NEAREST is deprecated and will be removed in Pillow 10 (2023-07-01). Use Resampling.NEAREST or Dither.NONE instead.\n",
      "  small_img = image.resize((PIXEL_WIDTH,PIXEL_HEIGHT),Image.NEAREST)\n"
     ]
    }
   ],
   "source": [
    "small_img = image.resize((PIXEL_WIDTH,PIXEL_HEIGHT),Image.NEAREST)\n",
    "small_img.save(OUTPUT_IMAGE_NAME)"
   ]
  },
  {
   "cell_type": "code",
   "execution_count": 5,
   "metadata": {},
   "outputs": [],
   "source": [
    "pixels = list(small_img.getdata())\n",
    "width, height = small_img.size\n",
    "pixels = [pixels[i * width:(i + 1) * width] for i in range(height)]"
   ]
  },
  {
   "cell_type": "code",
   "execution_count": 6,
   "metadata": {},
   "outputs": [
    {
     "ename": "TypeError",
     "evalue": "can only concatenate tuple (not \"str\") to tuple",
     "output_type": "error",
     "traceback": [
      "\u001b[1;31m---------------------------------------------------------------------------\u001b[0m",
      "\u001b[1;31mTypeError\u001b[0m                                 Traceback (most recent call last)",
      "\u001b[1;32mc:\\Download\\AndroidStudio\\Battory\\pixel-image-converter\\image-to-pixels-converter.ipynb Cell 6'\u001b[0m in \u001b[0;36m<cell line: 8>\u001b[1;34m()\u001b[0m\n\u001b[0;32m      <a href='vscode-notebook-cell:/c%3A/Download/AndroidStudio/Battory/pixel-image-converter/image-to-pixels-converter.ipynb#ch0000005?line=6'>7</a>\u001b[0m color_pixel_array \u001b[39m=\u001b[39m []\n\u001b[0;32m      <a href='vscode-notebook-cell:/c%3A/Download/AndroidStudio/Battory/pixel-image-converter/image-to-pixels-converter.ipynb#ch0000005?line=7'>8</a>\u001b[0m \u001b[39mfor\u001b[39;00m row_idx, pixel_row \u001b[39min\u001b[39;00m \u001b[39menumerate\u001b[39m(pixels):\n\u001b[1;32m----> <a href='vscode-notebook-cell:/c%3A/Download/AndroidStudio/Battory/pixel-image-converter/image-to-pixels-converter.ipynb#ch0000005?line=8'>9</a>\u001b[0m     color_pixel_map\u001b[39m.\u001b[39mextend(\u001b[39mlist\u001b[39m(\u001b[39mfilter\u001b[39m(\u001b[39mNone\u001b[39;00m, [{\u001b[39mstr\u001b[39m(idx):pixel\u001b[39m+\u001b[39m\u001b[39m\"\u001b[39m\u001b[39m,\u001b[39m\u001b[39m\"\u001b[39m\u001b[39m+\u001b[39m\u001b[39mstr\u001b[39m(row_idx)} \u001b[39mif\u001b[39;00m isColor(pixel) \u001b[39melse\u001b[39;00m \u001b[39mNone\u001b[39;00m \u001b[39mfor\u001b[39;00m idx, pixel \u001b[39min\u001b[39;00m \u001b[39menumerate\u001b[39m(pixel_row)])))\n\u001b[0;32m     <a href='vscode-notebook-cell:/c%3A/Download/AndroidStudio/Battory/pixel-image-converter/image-to-pixels-converter.ipynb#ch0000005?line=9'>10</a>\u001b[0m     color_pixel_array\u001b[39m.\u001b[39mextend(\u001b[39mlist\u001b[39m(\u001b[39mfilter\u001b[39m(\u001b[39mNone\u001b[39;00m, [[pixel, idx, row_idx] \u001b[39mif\u001b[39;00m isColor(pixel) \u001b[39melse\u001b[39;00m \u001b[39mNone\u001b[39;00m \u001b[39mfor\u001b[39;00m idx, pixel \u001b[39min\u001b[39;00m \u001b[39menumerate\u001b[39m(pixel_row)])))\n\u001b[0;32m     <a href='vscode-notebook-cell:/c%3A/Download/AndroidStudio/Battory/pixel-image-converter/image-to-pixels-converter.ipynb#ch0000005?line=11'>12</a>\u001b[0m color_pixel_cnt \u001b[39m=\u001b[39m \u001b[39m0\u001b[39m\n",
      "\u001b[1;32mc:\\Download\\AndroidStudio\\Battory\\pixel-image-converter\\image-to-pixels-converter.ipynb Cell 6'\u001b[0m in \u001b[0;36m<listcomp>\u001b[1;34m(.0)\u001b[0m\n\u001b[0;32m      <a href='vscode-notebook-cell:/c%3A/Download/AndroidStudio/Battory/pixel-image-converter/image-to-pixels-converter.ipynb#ch0000005?line=6'>7</a>\u001b[0m color_pixel_array \u001b[39m=\u001b[39m []\n\u001b[0;32m      <a href='vscode-notebook-cell:/c%3A/Download/AndroidStudio/Battory/pixel-image-converter/image-to-pixels-converter.ipynb#ch0000005?line=7'>8</a>\u001b[0m \u001b[39mfor\u001b[39;00m row_idx, pixel_row \u001b[39min\u001b[39;00m \u001b[39menumerate\u001b[39m(pixels):\n\u001b[1;32m----> <a href='vscode-notebook-cell:/c%3A/Download/AndroidStudio/Battory/pixel-image-converter/image-to-pixels-converter.ipynb#ch0000005?line=8'>9</a>\u001b[0m     color_pixel_map\u001b[39m.\u001b[39mextend(\u001b[39mlist\u001b[39m(\u001b[39mfilter\u001b[39m(\u001b[39mNone\u001b[39;00m, [{\u001b[39mstr\u001b[39m(idx):pixel\u001b[39m+\u001b[39;49m\u001b[39m\"\u001b[39;49m\u001b[39m,\u001b[39;49m\u001b[39m\"\u001b[39;49m\u001b[39m+\u001b[39m\u001b[39mstr\u001b[39m(row_idx)} \u001b[39mif\u001b[39;00m isColor(pixel) \u001b[39melse\u001b[39;00m \u001b[39mNone\u001b[39;00m \u001b[39mfor\u001b[39;00m idx, pixel \u001b[39min\u001b[39;00m \u001b[39menumerate\u001b[39m(pixel_row)])))\n\u001b[0;32m     <a href='vscode-notebook-cell:/c%3A/Download/AndroidStudio/Battory/pixel-image-converter/image-to-pixels-converter.ipynb#ch0000005?line=9'>10</a>\u001b[0m     color_pixel_array\u001b[39m.\u001b[39mextend(\u001b[39mlist\u001b[39m(\u001b[39mfilter\u001b[39m(\u001b[39mNone\u001b[39;00m, [[pixel, idx, row_idx] \u001b[39mif\u001b[39;00m isColor(pixel) \u001b[39melse\u001b[39;00m \u001b[39mNone\u001b[39;00m \u001b[39mfor\u001b[39;00m idx, pixel \u001b[39min\u001b[39;00m \u001b[39menumerate\u001b[39m(pixel_row)])))\n\u001b[0;32m     <a href='vscode-notebook-cell:/c%3A/Download/AndroidStudio/Battory/pixel-image-converter/image-to-pixels-converter.ipynb#ch0000005?line=11'>12</a>\u001b[0m color_pixel_cnt \u001b[39m=\u001b[39m \u001b[39m0\u001b[39m\n",
      "\u001b[1;31mTypeError\u001b[0m: can only concatenate tuple (not \"str\") to tuple"
     ]
    }
   ],
   "source": [
    "# 색칠해야하는 픽셀 구하기\n",
    "# color_pixel_array, color_pixel_cnt, pixel_fill_array\n",
    "\n",
    "isColor = lambda pixel:pixel[3] != 0\n",
    "\n",
    "color_pixel_map = []\n",
    "color_pixel_array = []\n",
    "for row_idx, pixel_row in enumerate(pixels):\n",
    "    color_pixel_map.extend(list(filter(None, [{str(idx)+\",\"+str(row_idx):pixel} if isColor(pixel) else None for idx, pixel in enumerate(pixel_row)])))\n",
    "    color_pixel_array.extend(list(filter(None, [[pixel, idx, row_idx] if isColor(pixel) else None for idx, pixel in enumerate(pixel_row)])))\n",
    "\n",
    "color_pixel_cnt = 0\n",
    "for row in color_pixel_array:\n",
    "    color_pixel_cnt+=1\n",
    "\n",
    "pixel_fill_array = []\n",
    "for pixel_fill_num in range(TOTAL_DAY):\n",
    "    pixel_fill = int(color_pixel_cnt / (TOTAL_DAY - pixel_fill_num))\n",
    "    pixel_fill_array.append(pixel_fill)\n",
    "    color_pixel_cnt -= pixel_fill\n",
    "\n",
    "color_pixel_map"
   ]
  },
  {
   "cell_type": "code",
   "execution_count": 70,
   "metadata": {},
   "outputs": [],
   "source": [
    "# 하루당 채워지는 pixel 위치 구하기\n",
    "\n",
    "import random\n",
    "\n",
    "pixel_fill_pos_array = []\n",
    "picked_idx = []\n",
    "for pixel_per_day in pixel_fill_array:\n",
    "    pixel_fill_pos_array.append([])\n",
    "    for pixel in range(pixel_per_day):\n",
    "        while True:\n",
    "            rand_idx = random.randint(0, len(color_pixel_array) - 1)\n",
    "            if rand_idx not in picked_idx:\n",
    "                pixel_fill_pos_array[len(pixel_fill_pos_array) - 1].append(str(color_pixel_array[rand_idx][1])+\",\"+str(color_pixel_array[rand_idx][2]))\n",
    "                picked_idx.append(rand_idx)\n",
    "                break"
   ]
  },
  {
   "cell_type": "code",
   "execution_count": 71,
   "metadata": {},
   "outputs": [],
   "source": [
    "import json\n",
    "\n",
    "json_data = {\n",
    "    \"info\": {\n",
    "        \"image_name\":INPUT_IMAGE_NAME.split('.')[0],\n",
    "        \"total_day\": TOTAL_DAY,\n",
    "        \"pixel_width\": PIXEL_WIDTH,\n",
    "        \"pixel_height\": PIXEL_HEIGHT,\n",
    "    },\n",
    "    \"data\":color_pixel_map,\n",
    "    \"pixel_per_day\":pixel_fill_pos_array\n",
    "}\n",
    "\n",
    "with open(OUTPUT_IMAGE_INFO_NAME, \"w\") as json_file:\n",
    "    json.dump(json_data, json_file)"
   ]
  },
  {
   "cell_type": "code",
   "execution_count": 8,
   "metadata": {},
   "outputs": [
    {
     "name": "stderr",
     "output_type": "stream",
     "text": [
      "C:\\Users\\hysku\\AppData\\Local\\Temp\\ipykernel_19676\\2145696453.py:1: DeprecationWarning: NEAREST is deprecated and will be removed in Pillow 10 (2023-07-01). Use Resampling.NEAREST or Dither.NONE instead.\n",
      "  in_app_img = small_img.resize((PIXEL_WIDTH*100, PIXEL_HEIGHT*100), Image.NEAREST)\n"
     ]
    },
    {
     "ename": "",
     "evalue": "",
     "output_type": "error",
     "traceback": [
      "\u001b[1;31mThe Kernel crashed while executing code in the the current cell or a previous cell. Please review the code in the cell(s) to identify a possible cause of the failure. Click <a href='https://aka.ms/vscodeJupyterKernelCrash'>here</a> for more info. View Jupyter <a href='command:jupyter.viewOutput'>log</a> for further details."
     ]
    }
   ],
   "source": [
    "in_app_img = small_img.resize((PIXEL_WIDTH*100, PIXEL_HEIGHT*100), Image.NEAREST)\n",
    "in_app_img.save(OUTPUT_INAPP_IMAGE_NAME)"
   ]
  },
  {
   "cell_type": "code",
   "execution_count": null,
   "metadata": {},
   "outputs": [],
   "source": []
  }
 ],
 "metadata": {
  "interpreter": {
   "hash": "7909eac5ff08d0cfd1a4c0b432197e9c7e71a331497cd8b009feccffbf9f3f92"
  },
  "kernelspec": {
   "display_name": "Python 3.9.13 64-bit (windows store)",
   "language": "python",
   "name": "python3"
  },
  "language_info": {
   "codemirror_mode": {
    "name": "ipython",
    "version": 3
   },
   "file_extension": ".py",
   "mimetype": "text/x-python",
   "name": "python",
   "nbconvert_exporter": "python",
   "pygments_lexer": "ipython3",
   "version": "3.9.13"
  },
  "orig_nbformat": 4
 },
 "nbformat": 4,
 "nbformat_minor": 2
}
